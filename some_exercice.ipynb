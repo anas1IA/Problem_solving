{
  "nbformat": 4,
  "nbformat_minor": 0,
  "metadata": {
    "colab": {
      "provenance": [],
      "authorship_tag": "ABX9TyNjXseMXhGYLBduWWF6NvTp",
      "include_colab_link": true
    },
    "kernelspec": {
      "name": "python3",
      "display_name": "Python 3"
    },
    "language_info": {
      "name": "python"
    }
  },
  "cells": [
    {
      "cell_type": "markdown",
      "metadata": {
        "id": "view-in-github",
        "colab_type": "text"
      },
      "source": [
        "<a href=\"https://colab.research.google.com/github/anas1IA/Problem_solving/blob/main/some_exercice.ipynb\" target=\"_parent\"><img src=\"https://colab.research.google.com/assets/colab-badge.svg\" alt=\"Open In Colab\"/></a>"
      ]
    },
    {
      "cell_type": "code",
      "execution_count": 8,
      "metadata": {
        "id": "3M16ztIzj4C4"
      },
      "outputs": [],
      "source": [
        "def invert(lst):\n",
        "  return [-i  for i in lst ]"
      ]
    },
    {
      "cell_type": "code",
      "source": [
        "invert([1,2,3,4,5])"
      ],
      "metadata": {
        "colab": {
          "base_uri": "https://localhost:8080/"
        },
        "id": "9XkDEho2lVQv",
        "outputId": "8878bd50-1825-4061-9546-242a90efb3c5"
      },
      "execution_count": 9,
      "outputs": [
        {
          "output_type": "execute_result",
          "data": {
            "text/plain": [
              "[-1, -2, -3, -4, -5]"
            ]
          },
          "metadata": {},
          "execution_count": 9
        }
      ]
    },
    {
      "cell_type": "code",
      "source": [
        "invert([1,2,3,4,5]) == [-1,-2,-3,-4,-5]\n",
        "invert([1,-2,3,-4,5]) == [-1,2,-3,4,-5]\n",
        "invert([]) == []"
      ],
      "metadata": {
        "id": "X_tMVXD_lTof"
      },
      "execution_count": null,
      "outputs": []
    },
    {
      "cell_type": "code",
      "source": [
        "invert([1,2,3,4,5]) == [-1,-2,-3,-4,-5]\n",
        "invert([1,-2,3,-4,5]) == [-1,2,-3,4,-5]\n",
        "invert([]) == [] == [-1,-2,-3,-4,-5]\n",
        "invert([1,-2,3,-4,5]) == [-1,2,-3,4,-5]\n",
        "invert([]) == []"
      ],
      "metadata": {
        "id": "103Qxmm4kY52"
      },
      "execution_count": null,
      "outputs": []
    },
    {
      "cell_type": "code",
      "source": [
        "def invert(lst):\n",
        "    return list(map(lambda x: -x, lst));"
      ],
      "metadata": {
        "id": "pytAKo8SlteC"
      },
      "execution_count": 10,
      "outputs": []
    },
    {
      "cell_type": "code",
      "source": [
        "invertv2 = lambda List:[-x for x in List]\n",
        "invertv2([32,3,4])"
      ],
      "metadata": {
        "colab": {
          "base_uri": "https://localhost:8080/"
        },
        "id": "KvdoN4MEn8P8",
        "outputId": "c5dbd2b3-9966-4b88-a343-8ed3f2289b5b"
      },
      "execution_count": 20,
      "outputs": [
        {
          "output_type": "execute_result",
          "data": {
            "text/plain": [
              "[-32, -3, -4]"
            ]
          },
          "metadata": {},
          "execution_count": 20
        }
      ]
    },
    {
      "cell_type": "code",
      "source": [
        "list(map(lambda x: -x, ([1,2,3,4])))"
      ],
      "metadata": {
        "colab": {
          "base_uri": "https://localhost:8080/"
        },
        "id": "8LsGEhBFmBeQ",
        "outputId": "40e4629a-3191-4afc-86cd-8941a8175972"
      },
      "execution_count": 18,
      "outputs": [
        {
          "output_type": "execute_result",
          "data": {
            "text/plain": [
              "[-1, -2, -3, -4]"
            ]
          },
          "metadata": {},
          "execution_count": 18
        }
      ]
    },
    {
      "cell_type": "code",
      "source": [
        "invert([1,2,3,4,5])"
      ],
      "metadata": {
        "colab": {
          "base_uri": "https://localhost:8080/"
        },
        "id": "f3dMI29il0ix",
        "outputId": "73433063-a119-4a8f-bcee-023ad7c79640"
      },
      "execution_count": 11,
      "outputs": [
        {
          "output_type": "execute_result",
          "data": {
            "text/plain": [
              "[-1, -2, -3, -4, -5]"
            ]
          },
          "metadata": {},
          "execution_count": 11
        }
      ]
    },
    {
      "cell_type": "code",
      "source": [
        "v =[[45, 12],(55,21),(19, -2),(104, 20)]\n",
        "v[0][1]"
      ],
      "metadata": {
        "colab": {
          "base_uri": "https://localhost:8080/"
        },
        "id": "iReEQqMipH8O",
        "outputId": "fe98524d-f171-497a-d335-d01a528c6f4f"
      },
      "execution_count": 26,
      "outputs": [
        {
          "output_type": "execute_result",
          "data": {
            "text/plain": [
              "12"
            ]
          },
          "metadata": {},
          "execution_count": 26
        }
      ]
    },
    {
      "cell_type": "code",
      "source": [],
      "metadata": {
        "id": "uxci8WucrMZ6"
      },
      "execution_count": null,
      "outputs": []
    },
    {
      "cell_type": "code",
      "source": [
        "def open_or_senior(data):\n",
        "  return [\"Senior\" if data[i][0] >= 55 and data[i][1] > 7 else \"Open\" for i in range(len(data))]\n"
      ],
      "metadata": {
        "id": "FJtt9RinphgM"
      },
      "execution_count": 31,
      "outputs": []
    },
    {
      "cell_type": "code",
      "source": [
        "open_or_senior([(72, 7), (45, 17), (12, 5), (53, 16), (33, 23), (50, 26)])"
      ],
      "metadata": {
        "colab": {
          "base_uri": "https://localhost:8080/"
        },
        "id": "gx7wS37QpG1I",
        "outputId": "ada19197-8de9-42bd-915b-5f6bc40bf113"
      },
      "execution_count": 32,
      "outputs": [
        {
          "output_type": "execute_result",
          "data": {
            "text/plain": [
              "['Open', 'Open', 'Open', 'Open', 'Open', 'Open']"
            ]
          },
          "metadata": {},
          "execution_count": 32
        }
      ]
    },
    {
      "cell_type": "code",
      "source": [
        "(1, 0) --> 1 (1 + 0 = 1)\n",
        "(1, 2) --> 3 (1 + 2 = 3)\n",
        "(0, 1) --> 1 (0 + 1 = 1)\n",
        "(1, 1) --> 1 (1 since both are same)\n",
        "(-1, 0) --> -1 (-1 + 0 = -1)\n",
        "(-1, 2) --> 2 (-1 + 0 + 1 + 2 = 2)"
      ],
      "metadata": {
        "id": "OofZ-IC-GP7y"
      },
      "execution_count": null,
      "outputs": []
    },
    {
      "cell_type": "code",
      "source": [
        "def get_sum(a,b):\n",
        "  sumM =0\n",
        "  if b>a:\n",
        "    sum = a\n",
        "    for i in range(b-a):\n",
        "      sum = sum +1\n",
        "      sumM = a+sum\n",
        "  if b == a:\n",
        "    sumM=a\n",
        "  else:\n",
        "     sum =b\n",
        "     for i in range(a-b):\n",
        "      sum+=1\n",
        "      sumM = b+sum\n",
        "  return sumM+1\n",
        "\n",
        "\n"
      ],
      "metadata": {
        "id": "PmSoXveCGNrf"
      },
      "execution_count": 122,
      "outputs": []
    },
    {
      "cell_type": "code",
      "source": [
        "get_sum(-1,2)"
      ],
      "metadata": {
        "colab": {
          "base_uri": "https://localhost:8080/"
        },
        "id": "VkTHhPDhNRMM",
        "outputId": "853e3bff-d5c7-45ec-b350-d6cc38b5c0b6"
      },
      "execution_count": 123,
      "outputs": [
        {
          "output_type": "execute_result",
          "data": {
            "text/plain": [
              "2"
            ]
          },
          "metadata": {},
          "execution_count": 123
        }
      ]
    },
    {
      "cell_type": "markdown",
      "source": [
        "## this problem :https://www.codewars.com/kata/55f2b110f61eb01779000053/train/python"
      ],
      "metadata": {
        "id": "ktMZ-O0pRfss"
      }
    },
    {
      "cell_type": "code",
      "source": [
        "for i in range(3):\n",
        "  print(i)"
      ],
      "metadata": {
        "colab": {
          "base_uri": "https://localhost:8080/"
        },
        "id": "XA-foWiJHl6m",
        "outputId": "99200c62-1626-40b0-f549-82e00f22fe7c"
      },
      "execution_count": 114,
      "outputs": [
        {
          "output_type": "stream",
          "name": "stdout",
          "text": [
            "0\n",
            "1\n",
            "2\n"
          ]
        }
      ]
    }
  ]
}