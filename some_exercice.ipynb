{
  "nbformat": 4,
  "nbformat_minor": 0,
  "metadata": {
    "colab": {
      "provenance": [],
      "authorship_tag": "ABX9TyPeTyHRYmaeXgQxCUR+/9XW",
      "include_colab_link": true
    },
    "kernelspec": {
      "name": "python3",
      "display_name": "Python 3"
    },
    "language_info": {
      "name": "python"
    }
  },
  "cells": [
    {
      "cell_type": "markdown",
      "metadata": {
        "id": "view-in-github",
        "colab_type": "text"
      },
      "source": [
        "<a href=\"https://colab.research.google.com/github/anas1IA/Problem_solving/blob/main/some_exercice.ipynb\" target=\"_parent\"><img src=\"https://colab.research.google.com/assets/colab-badge.svg\" alt=\"Open In Colab\"/></a>"
      ]
    },
    {
      "cell_type": "code",
      "execution_count": null,
      "metadata": {
        "id": "3M16ztIzj4C4"
      },
      "outputs": [],
      "source": [
        "def invert(lst):\n",
        "  return [-i  for i in lst ]"
      ]
    },
    {
      "cell_type": "code",
      "source": [
        "invert([1,2,3,4,5])"
      ],
      "metadata": {
        "colab": {
          "base_uri": "https://localhost:8080/"
        },
        "id": "9XkDEho2lVQv",
        "outputId": "8878bd50-1825-4061-9546-242a90efb3c5"
      },
      "execution_count": null,
      "outputs": [
        {
          "output_type": "execute_result",
          "data": {
            "text/plain": [
              "[-1, -2, -3, -4, -5]"
            ]
          },
          "metadata": {},
          "execution_count": 9
        }
      ]
    },
    {
      "cell_type": "code",
      "source": [
        "invert([1,2,3,4,5]) == [-1,-2,-3,-4,-5]\n",
        "invert([1,-2,3,-4,5]) == [-1,2,-3,4,-5]\n",
        "invert([]) == []"
      ],
      "metadata": {
        "id": "X_tMVXD_lTof"
      },
      "execution_count": null,
      "outputs": []
    },
    {
      "cell_type": "code",
      "source": [
        "invert([1,2,3,4,5]) == [-1,-2,-3,-4,-5]\n",
        "invert([1,-2,3,-4,5]) == [-1,2,-3,4,-5]\n",
        "invert([]) == [] == [-1,-2,-3,-4,-5]\n",
        "invert([1,-2,3,-4,5]) == [-1,2,-3,4,-5]\n",
        "invert([]) == []"
      ],
      "metadata": {
        "id": "103Qxmm4kY52"
      },
      "execution_count": null,
      "outputs": []
    },
    {
      "cell_type": "code",
      "source": [
        "def invert(lst):\n",
        "    return list(map(lambda x: -x, lst));"
      ],
      "metadata": {
        "id": "pytAKo8SlteC"
      },
      "execution_count": null,
      "outputs": []
    },
    {
      "cell_type": "code",
      "source": [
        "invertv2 = lambda List:[-x for x in List]\n",
        "invertv2([32,3,4])"
      ],
      "metadata": {
        "colab": {
          "base_uri": "https://localhost:8080/"
        },
        "id": "KvdoN4MEn8P8",
        "outputId": "c5dbd2b3-9966-4b88-a343-8ed3f2289b5b"
      },
      "execution_count": null,
      "outputs": [
        {
          "output_type": "execute_result",
          "data": {
            "text/plain": [
              "[-32, -3, -4]"
            ]
          },
          "metadata": {},
          "execution_count": 20
        }
      ]
    },
    {
      "cell_type": "code",
      "source": [
        "list(map(lambda x: -x, ([1,2,3,4])))"
      ],
      "metadata": {
        "colab": {
          "base_uri": "https://localhost:8080/"
        },
        "id": "8LsGEhBFmBeQ",
        "outputId": "40e4629a-3191-4afc-86cd-8941a8175972"
      },
      "execution_count": null,
      "outputs": [
        {
          "output_type": "execute_result",
          "data": {
            "text/plain": [
              "[-1, -2, -3, -4]"
            ]
          },
          "metadata": {},
          "execution_count": 18
        }
      ]
    },
    {
      "cell_type": "code",
      "source": [
        "invert([1,2,3,4,5])"
      ],
      "metadata": {
        "colab": {
          "base_uri": "https://localhost:8080/"
        },
        "id": "f3dMI29il0ix",
        "outputId": "73433063-a119-4a8f-bcee-023ad7c79640"
      },
      "execution_count": null,
      "outputs": [
        {
          "output_type": "execute_result",
          "data": {
            "text/plain": [
              "[-1, -2, -3, -4, -5]"
            ]
          },
          "metadata": {},
          "execution_count": 11
        }
      ]
    },
    {
      "cell_type": "code",
      "source": [
        "v =[[45, 12],(55,21),(19, -2),(104, 20)]\n",
        "v[0][1]"
      ],
      "metadata": {
        "colab": {
          "base_uri": "https://localhost:8080/"
        },
        "id": "iReEQqMipH8O",
        "outputId": "fe98524d-f171-497a-d335-d01a528c6f4f"
      },
      "execution_count": null,
      "outputs": [
        {
          "output_type": "execute_result",
          "data": {
            "text/plain": [
              "12"
            ]
          },
          "metadata": {},
          "execution_count": 26
        }
      ]
    },
    {
      "cell_type": "code",
      "source": [],
      "metadata": {
        "id": "uxci8WucrMZ6"
      },
      "execution_count": null,
      "outputs": []
    },
    {
      "cell_type": "code",
      "source": [
        "def open_or_senior(data):\n",
        "  return [\"Senior\" if data[i][0] >= 55 and data[i][1] > 7 else \"Open\" for i in range(len(data))]\n"
      ],
      "metadata": {
        "id": "FJtt9RinphgM"
      },
      "execution_count": null,
      "outputs": []
    },
    {
      "cell_type": "code",
      "source": [
        "open_or_senior([(72, 7), (45, 17), (12, 5), (53, 16), (33, 23), (50, 26)])"
      ],
      "metadata": {
        "colab": {
          "base_uri": "https://localhost:8080/"
        },
        "id": "gx7wS37QpG1I",
        "outputId": "ada19197-8de9-42bd-915b-5f6bc40bf113"
      },
      "execution_count": null,
      "outputs": [
        {
          "output_type": "execute_result",
          "data": {
            "text/plain": [
              "['Open', 'Open', 'Open', 'Open', 'Open', 'Open']"
            ]
          },
          "metadata": {},
          "execution_count": 32
        }
      ]
    },
    {
      "cell_type": "code",
      "source": [
        "(1, 0) --> 1 (1 + 0 = 1)\n",
        "(1, 2) --> 3 (1 + 2 = 3)\n",
        "(0, 1) --> 1 (0 + 1 = 1)\n",
        "(1, 1) --> 1 (1 since both are same)\n",
        "(-1, 0) --> -1 (-1 + 0 = -1)\n",
        "(-1, 2) --> 2 (-1 + 0 + 1 + 2 = 2)"
      ],
      "metadata": {
        "id": "OofZ-IC-GP7y"
      },
      "execution_count": null,
      "outputs": []
    },
    {
      "cell_type": "code",
      "source": [
        "def get_sum(a,b):\n",
        "  sum = a\n",
        "  for i in range(b-a):\n",
        "    sum+=(a+i+1)\n",
        "  return sum\n",
        "\n",
        "\n"
      ],
      "metadata": {
        "id": "PmSoXveCGNrf"
      },
      "execution_count": null,
      "outputs": []
    },
    {
      "cell_type": "code",
      "source": [],
      "metadata": {
        "id": "_gshMNvVgLPp"
      },
      "execution_count": null,
      "outputs": []
    },
    {
      "cell_type": "code",
      "source": [
        "get_sum(0,-1)"
      ],
      "metadata": {
        "colab": {
          "base_uri": "https://localhost:8080/"
        },
        "id": "VkTHhPDhNRMM",
        "outputId": "1c016ccd-8c0b-4de9-a0d5-203d7a12a56f"
      },
      "execution_count": null,
      "outputs": [
        {
          "output_type": "execute_result",
          "data": {
            "text/plain": [
              "0"
            ]
          },
          "metadata": {},
          "execution_count": 33
        }
      ]
    },
    {
      "cell_type": "markdown",
      "source": [
        "## this problem :https://www.codewars.com/kata/55f2b110f61eb01779000053/train/python"
      ],
      "metadata": {
        "id": "ktMZ-O0pRfss"
      }
    },
    {
      "cell_type": "code",
      "source": [
        "for i in range(4):\n",
        "  print(i)"
      ],
      "metadata": {
        "colab": {
          "base_uri": "https://localhost:8080/"
        },
        "id": "XA-foWiJHl6m",
        "outputId": "f344d265-6b86-4ffa-e3d2-dd752abd85a8"
      },
      "execution_count": null,
      "outputs": [
        {
          "output_type": "stream",
          "name": "stdout",
          "text": [
            "0\n",
            "1\n",
            "2\n",
            "3\n"
          ]
        }
      ]
    },
    {
      "cell_type": "code",
      "source": [
        "list = [1,23,4]\n",
        "list[2]"
      ],
      "metadata": {
        "colab": {
          "base_uri": "https://localhost:8080/"
        },
        "id": "tuVqya_Kl2QB",
        "outputId": "eb153faa-44bd-4f04-8818-6bb508481d56"
      },
      "execution_count": null,
      "outputs": [
        {
          "output_type": "execute_result",
          "data": {
            "text/plain": [
              "4"
            ]
          },
          "metadata": {},
          "execution_count": 2
        }
      ]
    },
    {
      "cell_type": "code",
      "source": [
        "def get_sum(a,b):\n",
        "    return sum(range(min(a, b), max(a, b) + 1))\n"
      ],
      "metadata": {
        "id": "1DtOFbVtm28G"
      },
      "execution_count": null,
      "outputs": []
    },
    {
      "cell_type": "code",
      "source": [
        "def oddest(a):\n",
        "    list = [a[i]//2 for i in range(len(a))]\n",
        "    max_value = max(list)\n",
        "    max_index = list.index(max_value)\n",
        "    return a[max_index]"
      ],
      "metadata": {
        "id": "0nFoPOYJwc4X"
      },
      "execution_count": null,
      "outputs": []
    },
    {
      "cell_type": "code",
      "source": [
        "oddest([-17,11])"
      ],
      "metadata": {
        "colab": {
          "base_uri": "https://localhost:8080/"
        },
        "id": "shaXG_N2xXq0",
        "outputId": "dd688da6-a3ae-4e0e-dd90-a05401f0fc12"
      },
      "execution_count": null,
      "outputs": [
        {
          "output_type": "execute_result",
          "data": {
            "text/plain": [
              "11"
            ]
          },
          "metadata": {},
          "execution_count": 24
        }
      ]
    },
    {
      "cell_type": "code",
      "source": [
        "def oddest(a):\n",
        "    odd_list =[]\n",
        "    for i in range(len(a)):\n",
        "        if a[i]%2!=0:\n",
        "            odd_list.append(a[i])\n",
        "    return odd_list"
      ],
      "metadata": {
        "id": "6FACiKI7xKwp"
      },
      "execution_count": null,
      "outputs": []
    },
    {
      "cell_type": "code",
      "source": [
        "oddest([-17,2,4,11,12,14])"
      ],
      "metadata": {
        "colab": {
          "base_uri": "https://localhost:8080/"
        },
        "id": "W8tf9Nh9xQr9",
        "outputId": "f4ab56a7-6495-46c8-bd47-fea219408ec9"
      },
      "execution_count": null,
      "outputs": [
        {
          "output_type": "execute_result",
          "data": {
            "text/plain": [
              "[-17, 11]"
            ]
          },
          "metadata": {},
          "execution_count": 22
        }
      ]
    },
    {
      "cell_type": "code",
      "source": [
        "def oddest(a):\n",
        "    odd_list =[]\n",
        "    for i in range(len(a)):\n",
        "        if a[i]%2!=0:\n",
        "            odd_list.append(a[i])\n",
        "    list = [odd_list[i]//2 for i in range(len(odd_list))]\n",
        "    max_value = max(list)\n",
        "    max_index = list.index(max_value)\n",
        "    return odd_list[max_index]"
      ],
      "metadata": {
        "id": "-dHn7yh6wjCf"
      },
      "execution_count": null,
      "outputs": []
    },
    {
      "cell_type": "code",
      "source": [
        "oddest([1,3])"
      ],
      "metadata": {
        "colab": {
          "base_uri": "https://localhost:8080/"
        },
        "id": "9e8aFedAxn6S",
        "outputId": "a4863790-06cf-4806-a4b7-91f9fbda119b"
      },
      "execution_count": null,
      "outputs": [
        {
          "output_type": "execute_result",
          "data": {
            "text/plain": [
              "3"
            ]
          },
          "metadata": {},
          "execution_count": 30
        }
      ]
    },
    {
      "cell_type": "markdown",
      "source": [
        "## This problem ,I should solve it :https://www.codewars.com/kata/5a905c2157c562994900009d"
      ],
      "metadata": {
        "id": "quwMWNydzUJw"
      }
    },
    {
      "cell_type": "code",
      "source": [],
      "metadata": {
        "id": "FrxXZdELzSro"
      },
      "execution_count": null,
      "outputs": []
    },
    {
      "cell_type": "code",
      "source": [
        "def oddest(a):\n",
        "    list = [a[i]//2 for i in range(len(a))]\n",
        "    max_value = max(list)\n",
        "    max_index = list.index(max_value)\n",
        "    return a[max_index]"
      ],
      "metadata": {
        "id": "nHok7Rgjlr2P"
      },
      "execution_count": null,
      "outputs": []
    },
    {
      "cell_type": "code",
      "source": [
        "oddest([-17,2,4,11,12,14])"
      ],
      "metadata": {
        "colab": {
          "base_uri": "https://localhost:8080/"
        },
        "id": "y7X7Ia32pmFc",
        "outputId": "f1aa018c-61ea-4a05-85ca-0df5b86aee31"
      },
      "execution_count": null,
      "outputs": [
        {
          "output_type": "execute_result",
          "data": {
            "text/plain": [
              "2"
            ]
          },
          "metadata": {},
          "execution_count": 20
        }
      ]
    },
    {
      "cell_type": "code",
      "source": [
        "-11//2"
      ],
      "metadata": {
        "colab": {
          "base_uri": "https://localhost:8080/"
        },
        "id": "xjI9eYKrs6M3",
        "outputId": "08835b0c-8c68-4d79-bfa7-64f57a8e37e7"
      },
      "execution_count": null,
      "outputs": [
        {
          "output_type": "execute_result",
          "data": {
            "text/plain": [
              "-6"
            ]
          },
          "metadata": {},
          "execution_count": 14
        }
      ]
    },
    {
      "cell_type": "code",
      "source": [
        "k=''\n",
        "k"
      ],
      "metadata": {
        "colab": {
          "base_uri": "https://localhost:8080/",
          "height": 35
        },
        "id": "UBkhNsIB1Z8N",
        "outputId": "637aaac2-a2e0-4abe-b20e-ec21563f748b"
      },
      "execution_count": 8,
      "outputs": [
        {
          "output_type": "execute_result",
          "data": {
            "text/plain": [
              "''"
            ],
            "application/vnd.google.colaboratory.intrinsic+json": {
              "type": "string"
            }
          },
          "metadata": {},
          "execution_count": 8
        }
      ]
    },
    {
      "cell_type": "code",
      "source": [
        "m = \"012345\"\n"
      ],
      "metadata": {
        "id": "_R_1jvS_0b1f"
      },
      "execution_count": 38,
      "outputs": []
    },
    {
      "cell_type": "code",
      "source": [
        "print(len(m))"
      ],
      "metadata": {
        "colab": {
          "base_uri": "https://localhost:8080/"
        },
        "id": "txq4x7OX2VI-",
        "outputId": "bd85f1e4-21a3-43f8-bc21-6b9ef4b41cc0"
      },
      "execution_count": 39,
      "outputs": [
        {
          "output_type": "stream",
          "name": "stdout",
          "text": [
            "6\n"
          ]
        }
      ]
    },
    {
      "cell_type": "code",
      "source": [
        "for i  in range(len(m)-1,-1,-1):\n",
        "  print(i)"
      ],
      "metadata": {
        "colab": {
          "base_uri": "https://localhost:8080/"
        },
        "id": "5yzcH1At2MOT",
        "outputId": "cc0418eb-f836-45f3-9bc1-e9d2a63ad04a"
      },
      "execution_count": 40,
      "outputs": [
        {
          "output_type": "stream",
          "name": "stdout",
          "text": [
            "5\n",
            "4\n",
            "3\n",
            "2\n",
            "1\n",
            "0\n"
          ]
        }
      ]
    },
    {
      "cell_type": "code",
      "source": [
        "j = '543210'\n",
        "j[0]"
      ],
      "metadata": {
        "colab": {
          "base_uri": "https://localhost:8080/",
          "height": 35
        },
        "id": "ob294O185XWI",
        "outputId": "3302e5ed-efbe-4902-d00e-e1e5708171ce"
      },
      "execution_count": 50,
      "outputs": [
        {
          "output_type": "execute_result",
          "data": {
            "text/plain": [
              "'5'"
            ],
            "application/vnd.google.colaboratory.intrinsic+json": {
              "type": "string"
            }
          },
          "metadata": {},
          "execution_count": 50
        }
      ]
    },
    {
      "cell_type": "code",
      "source": [
        "for i  in range(len(j[1:])-1,-1,-1):\n",
        "  print(i)"
      ],
      "metadata": {
        "colab": {
          "base_uri": "https://localhost:8080/"
        },
        "id": "WIQI_Oty5ba4",
        "outputId": "16aeadc6-4e9e-4af2-be2a-87507e0be87d"
      },
      "execution_count": 45,
      "outputs": [
        {
          "output_type": "stream",
          "name": "stdout",
          "text": [
            "4\n",
            "3\n",
            "2\n",
            "1\n",
            "0\n"
          ]
        }
      ]
    },
    {
      "cell_type": "code",
      "source": [
        "def reverse_fun(n):\n",
        "  k=''\n",
        "\n",
        "  for i  in range(len(n)-1,-1,-1):\n",
        "    k+=n[i]\n",
        "  c =n[0]\n",
        "  for i  in range(len(k[1:])-1,0,-1):\n",
        "    c+=k[i]\n",
        "  l=c[1]\n",
        "  for i  in range(len(c[2:])-1,1,-1):\n",
        "    l+=c[i]\n",
        "\n",
        "  return c"
      ],
      "metadata": {
        "id": "N_0h4VkFz4Wn"
      },
      "execution_count": 48,
      "outputs": []
    },
    {
      "cell_type": "code",
      "source": [
        "reverse_fun(\"012345\")"
      ],
      "metadata": {
        "colab": {
          "base_uri": "https://localhost:8080/",
          "height": 35
        },
        "id": "o-B5dEHS2CBJ",
        "outputId": "65b85919-8363-42cb-c654-fd2d0b07a4a0"
      },
      "execution_count": 49,
      "outputs": [
        {
          "output_type": "execute_result",
          "data": {
            "text/plain": [
              "'01234'"
            ],
            "application/vnd.google.colaboratory.intrinsic+json": {
              "type": "string"
            }
          },
          "metadata": {},
          "execution_count": 49
        }
      ]
    },
    {
      "cell_type": "markdown",
      "source": [
        "## I should solve this problem :\n",
        "https://www.codewars.com/kata/566efcfbf521a3cfd2000056"
      ],
      "metadata": {
        "id": "90C-stxG-0GR"
      }
    }
  ]
}