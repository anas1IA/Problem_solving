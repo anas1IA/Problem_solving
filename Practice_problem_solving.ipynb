{
  "nbformat": 4,
  "nbformat_minor": 0,
  "metadata": {
    "colab": {
      "provenance": [],
      "authorship_tag": "ABX9TyPiIvlkcrBrWNhC0IT2oeIT",
      "include_colab_link": true
    },
    "kernelspec": {
      "name": "python3",
      "display_name": "Python 3"
    },
    "language_info": {
      "name": "python"
    }
  },
  "cells": [
    {
      "cell_type": "markdown",
      "metadata": {
        "id": "view-in-github",
        "colab_type": "text"
      },
      "source": [
        "<a href=\"https://colab.research.google.com/github/anas1IA/Problem_solving/blob/main/Practice_problem_solving.ipynb\" target=\"_parent\"><img src=\"https://colab.research.google.com/assets/colab-badge.svg\" alt=\"Open In Colab\"/></a>"
      ]
    },
    {
      "cell_type": "code",
      "execution_count": 1,
      "metadata": {
        "id": "LPN01vJAsnu_"
      },
      "outputs": [],
      "source": [
        "import pandas as pd\n",
        "import numpy as np\n"
      ]
    },
    {
      "cell_type": "code",
      "source": [
        "list1 =  [1,3,4,5]\n",
        "list2  = [6,7,8,9]"
      ],
      "metadata": {
        "id": "Gp0kJGZ4swKt"
      },
      "execution_count": 13,
      "outputs": []
    },
    {
      "cell_type": "code",
      "source": [
        "list = list1 + list2\n",
        "list"
      ],
      "metadata": {
        "colab": {
          "base_uri": "https://localhost:8080/"
        },
        "id": "Rnoi4WGLs8lV",
        "outputId": "87403def-3faa-40e4-ac42-11d589445fed"
      },
      "execution_count": 4,
      "outputs": [
        {
          "output_type": "execute_result",
          "data": {
            "text/plain": [
              "[1, 3, 4, 5, 6, 7, 8, 9]"
            ]
          },
          "metadata": {},
          "execution_count": 4
        }
      ]
    },
    {
      "cell_type": "code",
      "source": [
        "def fussioner(list1 ,list2)->list:\n",
        "  return list1 + list2\n",
        "\n"
      ],
      "metadata": {
        "id": "N3H7r7_vtNo8"
      },
      "execution_count": 11,
      "outputs": []
    },
    {
      "cell_type": "code",
      "source": [
        "fussioner(list1 ,list2)\n"
      ],
      "metadata": {
        "colab": {
          "base_uri": "https://localhost:8080/"
        },
        "id": "Ti9GE21Tt4_r",
        "outputId": "2b55f0a2-c8e5-408f-fea3-a09db5e10fa3"
      },
      "execution_count": 14,
      "outputs": [
        {
          "output_type": "execute_result",
          "data": {
            "text/plain": [
              "[1, 3, 4, 5, 6, 7, 8, 9]"
            ]
          },
          "metadata": {},
          "execution_count": 14
        }
      ]
    },
    {
      "cell_type": "code",
      "source": [
        "new_list = sorted(list)\n",
        "new_list"
      ],
      "metadata": {
        "colab": {
          "base_uri": "https://localhost:8080/"
        },
        "id": "8wizf3tGt_Zu",
        "outputId": "547c1425-2c48-4fa6-aa16-f282011d66e4"
      },
      "execution_count": 17,
      "outputs": [
        {
          "output_type": "execute_result",
          "data": {
            "text/plain": [
              "[1, 3, 4, 5, 6, 7, 8, 9]"
            ]
          },
          "metadata": {},
          "execution_count": 17
        }
      ]
    },
    {
      "cell_type": "code",
      "source": [
        "lis =['false',1,0,1,2,0,1,3,\"a\"]\n",
        "lis[2] == 0\n",
        "len(lis)\n",
        "for i in range(len(lis)) :\n",
        "  print(i)"
      ],
      "metadata": {
        "colab": {
          "base_uri": "https://localhost:8080/"
        },
        "id": "iSzOeGMju4_B",
        "outputId": "ab73f5a7-3339-434d-e448-ea0d89916daf"
      },
      "execution_count": 64,
      "outputs": [
        {
          "output_type": "stream",
          "name": "stdout",
          "text": [
            "0\n",
            "1\n",
            "2\n",
            "3\n",
            "4\n",
            "5\n",
            "6\n",
            "7\n",
            "8\n"
          ]
        }
      ]
    },
    {
      "cell_type": "code",
      "source": [
        "list=[]\n",
        "list.append(0)\n",
        "list.append(0)\n",
        "list"
      ],
      "metadata": {
        "colab": {
          "base_uri": "https://localhost:8080/"
        },
        "id": "y8pRt8AFyFNs",
        "outputId": "5d6045d9-1e42-4c16-b96c-a5297bf5b694"
      },
      "execution_count": 42,
      "outputs": [
        {
          "output_type": "execute_result",
          "data": {
            "text/plain": [
              "[0, 0]"
            ]
          },
          "metadata": {},
          "execution_count": 42
        }
      ]
    },
    {
      "cell_type": "code",
      "source": [
        "lis2 =['false',1,0,1,2,0,1,3,\"a\"]\n",
        "lis4 = lis2 + [0]\n",
        "lis4"
      ],
      "metadata": {
        "colab": {
          "base_uri": "https://localhost:8080/"
        },
        "id": "mXfA76-4zQPG",
        "outputId": "9e3f7e3b-bf08-4559-cad9-0f866995c852"
      },
      "execution_count": 88,
      "outputs": [
        {
          "output_type": "execute_result",
          "data": {
            "text/plain": [
              "['false', 1, 0, 1, 2, 0, 1, 3, 'a', 0]"
            ]
          },
          "metadata": {},
          "execution_count": 88
        }
      ]
    },
    {
      "cell_type": "code",
      "source": [
        "def moveZeros(arr) :\n",
        "  for i in range(len(arr)):\n",
        "    if arr[i] == 0 :\n",
        "     arr.remove(arr[i])\n",
        "     arr =arr +[0]\n",
        "  return arr\n",
        "\n",
        "zero = 5*[0]\n",
        "zero"
      ],
      "metadata": {
        "colab": {
          "base_uri": "https://localhost:8080/"
        },
        "id": "akGY_qV7uaWo",
        "outputId": "a565a299-de8e-44d6-be87-b23d91059e13"
      },
      "execution_count": 96,
      "outputs": [
        {
          "output_type": "execute_result",
          "data": {
            "text/plain": [
              "[0, 0, 0, 0, 0]"
            ]
          },
          "metadata": {},
          "execution_count": 96
        }
      ]
    },
    {
      "cell_type": "code",
      "source": [
        "def move_Zeros(arr):\n",
        "    non_zeros = [num for num in arr if num != 0]\n",
        "    zeros = [0] * (len(arr) - len(non_zeros))\n",
        "    return non_zeros + zeros\n"
      ],
      "metadata": {
        "id": "xPwhZonpxMSg"
      },
      "execution_count": 93,
      "outputs": []
    },
    {
      "cell_type": "code",
      "source": [
        "move_Zeros(['false',1,0,1,2,0,1,3,\"a\"])"
      ],
      "metadata": {
        "colab": {
          "base_uri": "https://localhost:8080/"
        },
        "id": "4WAazWTw3S0B",
        "outputId": "fcf66c26-a58a-480d-fc43-c39b5a572edb"
      },
      "execution_count": 94,
      "outputs": [
        {
          "output_type": "execute_result",
          "data": {
            "text/plain": [
              "['false', 1, 1, 2, 1, 3, 'a', 0, 0]"
            ]
          },
          "metadata": {},
          "execution_count": 94
        }
      ]
    },
    {
      "cell_type": "code",
      "source": [
        "123  --> \"123\""
      ],
      "metadata": {
        "id": "_3jF90uD-3L8"
      },
      "execution_count": null,
      "outputs": []
    },
    {
      "cell_type": "code",
      "source": [
        "def number_to_string(num):\n",
        "    # Return a string of the number here!\n",
        "    return str(num)\n"
      ],
      "metadata": {
        "id": "ro_cY_D3-z3Q"
      },
      "execution_count": 107,
      "outputs": []
    },
    {
      "cell_type": "code",
      "source": [],
      "metadata": {
        "id": "-orRcur7_D_8"
      },
      "execution_count": null,
      "outputs": []
    },
    {
      "cell_type": "code",
      "source": [
        " number_to_string(123)"
      ],
      "metadata": {
        "colab": {
          "base_uri": "https://localhost:8080/",
          "height": 35
        },
        "id": "4APLy8CR_CrB",
        "outputId": "b9fcf9c4-a8b2-44dc-f428-6a2f59f8d4a5"
      },
      "execution_count": 108,
      "outputs": [
        {
          "output_type": "execute_result",
          "data": {
            "text/plain": [
              "'123'"
            ],
            "application/vnd.google.colaboratory.intrinsic+json": {
              "type": "string"
            }
          },
          "metadata": {},
          "execution_count": 108
        }
      ]
    },
    {
      "cell_type": "code",
      "source": [
        "def __str__(self):\n",
        "    elements = []\n",
        "    for key, value in self.__dict__.items():\n",
        "        elements.append(\"{key}='{value}'\".format(key=key, value=value))\n",
        "    return ', '.join(elements)"
      ],
      "metadata": {
        "id": "BWLq61Ns_FD0"
      },
      "execution_count": null,
      "outputs": []
    },
    {
      "cell_type": "code",
      "source": [
        "def number_to_string1(num):\n",
        "    # Return a string of the number here!\n",
        "    # return \"%s\" % num          # %-formatting\n",
        "    # return str(num)            # int to string\n",
        "    # return \"{n}\".format(n=num) # str.format()\n",
        "    return f\"{num}\""
      ],
      "metadata": {
        "id": "pveZrTd1_DUv"
      },
      "execution_count": 110,
      "outputs": []
    },
    {
      "cell_type": "code",
      "source": [
        " number_to_string1(123)"
      ],
      "metadata": {
        "colab": {
          "base_uri": "https://localhost:8080/",
          "height": 35
        },
        "id": "7K572_D0Slah",
        "outputId": "6e56c1d8-07dd-4d89-d7de-fac2da809273"
      },
      "execution_count": 111,
      "outputs": [
        {
          "output_type": "execute_result",
          "data": {
            "text/plain": [
              "'123'"
            ],
            "application/vnd.google.colaboratory.intrinsic+json": {
              "type": "string"
            }
          },
          "metadata": {},
          "execution_count": 111
        }
      ]
    },
    {
      "cell_type": "code",
      "source": [
        "number_to_string2 = lambda n: f\"{n}\"\n",
        "number_to_string4 = lambda x : str(x)\n",
        "number_to_string2(123)"
      ],
      "metadata": {
        "colab": {
          "base_uri": "https://localhost:8080/",
          "height": 35
        },
        "id": "-51-UeA3SuJs",
        "outputId": "27ec6a3d-dbc8-4990-dce7-d95d9fbf9ba5"
      },
      "execution_count": 117,
      "outputs": [
        {
          "output_type": "execute_result",
          "data": {
            "text/plain": [
              "'123'"
            ],
            "application/vnd.google.colaboratory.intrinsic+json": {
              "type": "string"
            }
          },
          "metadata": {},
          "execution_count": 117
        }
      ]
    },
    {
      "cell_type": "code",
      "source": [
        "number_to_string4(9)"
      ],
      "metadata": {
        "colab": {
          "base_uri": "https://localhost:8080/",
          "height": 35
        },
        "id": "C-jZy96_S3qV",
        "outputId": "ed01d9c6-43d2-4898-fb07-70e99bceb652"
      },
      "execution_count": 118,
      "outputs": [
        {
          "output_type": "execute_result",
          "data": {
            "text/plain": [
              "'9'"
            ],
            "application/vnd.google.colaboratory.intrinsic+json": {
              "type": "string"
            }
          },
          "metadata": {},
          "execution_count": 118
        }
      ]
    },
    {
      "cell_type": "code",
      "source": [
        "def number_to_string10(num):\n",
        "    return \"{}\".format(num)"
      ],
      "metadata": {
        "id": "MOhVOsUITOz2"
      },
      "execution_count": 119,
      "outputs": []
    },
    {
      "cell_type": "code",
      "source": [
        "number_to_string10(55)"
      ],
      "metadata": {
        "colab": {
          "base_uri": "https://localhost:8080/",
          "height": 35
        },
        "id": "KWAfpFwTTj9s",
        "outputId": "c1b56a95-78fb-45bf-8a87-8dd791bab908"
      },
      "execution_count": 120,
      "outputs": [
        {
          "output_type": "execute_result",
          "data": {
            "text/plain": [
              "'55'"
            ],
            "application/vnd.google.colaboratory.intrinsic+json": {
              "type": "string"
            }
          },
          "metadata": {},
          "execution_count": 120
        }
      ]
    },
    {
      "cell_type": "code",
      "source": [
        "def number_to_string(num):\n",
        "    return \"%s\" % num\n",
        "number_to_string(999)"
      ],
      "metadata": {
        "colab": {
          "base_uri": "https://localhost:8080/",
          "height": 35
        },
        "id": "u2Mm-8e6TuY_",
        "outputId": "7f3c3da6-1c51-4495-8e77-f88f197e4db0"
      },
      "execution_count": 122,
      "outputs": [
        {
          "output_type": "execute_result",
          "data": {
            "text/plain": [
              "'999'"
            ],
            "application/vnd.google.colaboratory.intrinsic+json": {
              "type": "string"
            }
          },
          "metadata": {},
          "execution_count": 122
        }
      ]
    },
    {
      "cell_type": "code",
      "source": [
        "def number_to_stringl(num):\n",
        "    # Return a string of the number here!\n",
        "    return ascii(num)\n",
        "number_to_stringl(23)"
      ],
      "metadata": {
        "colab": {
          "base_uri": "https://localhost:8080/",
          "height": 35
        },
        "id": "QPwfES6YUtCC",
        "outputId": "2a3aed67-e7a0-45e9-9b2d-5e5e8238197d"
      },
      "execution_count": 124,
      "outputs": [
        {
          "output_type": "execute_result",
          "data": {
            "text/plain": [
              "'23'"
            ],
            "application/vnd.google.colaboratory.intrinsic+json": {
              "type": "string"
            }
          },
          "metadata": {},
          "execution_count": 124
        }
      ]
    },
    {
      "cell_type": "code",
      "source": [
        "def number_to_stringo(num):\n",
        "    return '' + str(num) + ''\n",
        "\n",
        "number_to_stringo(99)"
      ],
      "metadata": {
        "colab": {
          "base_uri": "https://localhost:8080/",
          "height": 35
        },
        "id": "Jnzzm-AlU0BD",
        "outputId": "f03da523-0fb2-46f7-8ac3-41772bc6bd7d"
      },
      "execution_count": 129,
      "outputs": [
        {
          "output_type": "execute_result",
          "data": {
            "text/plain": [
              "'99'"
            ],
            "application/vnd.google.colaboratory.intrinsic+json": {
              "type": "string"
            }
          },
          "metadata": {},
          "execution_count": 129
        }
      ]
    }
  ]
}